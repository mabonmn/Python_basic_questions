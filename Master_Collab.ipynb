{
  "nbformat": 4,
  "nbformat_minor": 0,
  "metadata": {
    "colab": {
      "name": "Master_Collab.ipynb",
      "provenance": [],
      "collapsed_sections": [
        "X0msxQwI7Drm"
      ],
      "toc_visible": true,
      "include_colab_link": true
    },
    "kernelspec": {
      "name": "python3",
      "display_name": "Python 3"
    },
    "language_info": {
      "name": "python"
    }
  },
  "cells": [
    {
      "cell_type": "markdown",
      "metadata": {
        "id": "view-in-github",
        "colab_type": "text"
      },
      "source": [
        "<a href=\"https://colab.research.google.com/github/mabonmn/Python_basic_questions/blob/main/Master_Collab.ipynb\" target=\"_parent\"><img src=\"https://colab.research.google.com/assets/colab-badge.svg\" alt=\"Open In Colab\"/></a>"
      ]
    },
    {
      "cell_type": "markdown",
      "source": [
        "#Understand the basic Concepts of Python Programming."
      ],
      "metadata": {
        "id": "vkYVHdGH6anN"
      }
    },
    {
      "cell_type": "markdown",
      "source": [
        "#Data Types"
      ],
      "metadata": {
        "id": "_YAXbskO6mg2"
      }
    },
    {
      "cell_type": "markdown",
      "source": [
        "Data types are the classification or categorization of data items. It represents the kind of value that tells what operations can be performed on a particular data. Since everything is an object in Python programming, data types are actually classes and variables are instance (object) of these classes.\n",
        "\n",
        "> More Examples :https://www.w3resource.com/python-exercises/python-data-types.php#EDITOR\n"
      ],
      "metadata": {
        "id": "CCOtH9qo6zF3"
      }
    },
    {
      "cell_type": "markdown",
      "source": [
        "##Concept: Strings\n",
        "Write a Python program to calculate the length of a string.\n",
        "\n"
      ],
      "metadata": {
        "id": "X0msxQwI7Drm"
      }
    },
    {
      "cell_type": "markdown",
      "source": [
        "The aim of this question is to help studenst understand the representations of Strings using charecters in python.\n"
      ],
      "metadata": {
        "id": "Twy_TTTn7o5q"
      }
    },
    {
      "cell_type": "markdown",
      "source": [
        "###EX1"
      ],
      "metadata": {
        "id": "zQt2JnUU7GJ7"
      }
    },
    {
      "cell_type": "code",
      "source": [
        "def string_length(str1):\n",
        "    count = 0\n",
        "    for char in str1:\n",
        "        count += 1\n",
        "    return count\n",
        "print(string_length('Hello World'))"
      ],
      "metadata": {
        "colab": {
          "base_uri": "https://localhost:8080/"
        },
        "id": "KkZ6QMW57kGV",
        "outputId": "85edaf4d-7620-48cf-b162-fbc8fe1f63a4"
      },
      "execution_count": null,
      "outputs": [
        {
          "output_type": "stream",
          "name": "stdout",
          "text": [
            "11\n"
          ]
        }
      ]
    },
    {
      "cell_type": "markdown",
      "source": [
        "###EX2"
      ],
      "metadata": {
        "id": "cF-hqt479Dkf"
      }
    },
    {
      "cell_type": "markdown",
      "source": [
        "Write a Python program to count the number of characters (character frequency) in a string\n",
        "The aim of this question is to help studenst understand the representations of Strings using charecters in python.\n"
      ],
      "metadata": {
        "id": "GynBrVKB_BWr"
      }
    },
    {
      "cell_type": "code",
      "source": [
        "def char_frequency(str1):  \n",
        "    dict = {}  \n",
        "    for n in str1:  \n",
        "        keys = dict.keys()  \n",
        "        if n in keys:  \n",
        "            dict[n] += 1  \n",
        "        else:  \n",
        "            dict[n] = 1  \n",
        "    return dict  \n",
        "print(char_frequency('google.com'))  "
      ],
      "metadata": {
        "colab": {
          "base_uri": "https://localhost:8080/"
        },
        "id": "KQkK3tbd9ujj",
        "outputId": "cae076f3-cacf-44fb-ff1d-1c54518b36c8"
      },
      "execution_count": null,
      "outputs": [
        {
          "output_type": "stream",
          "name": "stdout",
          "text": [
            "{'g': 2, 'o': 3, 'l': 1, 'e': 1, '.': 1, 'c': 1, 'm': 1}\n"
          ]
        }
      ]
    },
    {
      "cell_type": "markdown",
      "source": [
        "##Concept: Lists\n"
      ],
      "metadata": {
        "id": "kVa1fD4I8ZPG"
      }
    },
    {
      "cell_type": "markdown",
      "source": [
        "###EX1\n",
        "Write a Python program to sum all the items in a list.\n",
        "The aim of this question is to help studenst understand the concepts of lists and how to itrate through a list using python.\n"
      ],
      "metadata": {
        "id": "u8NJk4V88fz7"
      }
    },
    {
      "cell_type": "code",
      "source": [
        "def sum_list(items):  \n",
        "    sum_numbers = 0  \n",
        "    for x in items:  \n",
        "        sum_numbers += x  \n",
        "    return sum_numbers  \n",
        "print(sum_list([1,2,-8,3,4,5,6]))  "
      ],
      "metadata": {
        "colab": {
          "base_uri": "https://localhost:8080/"
        },
        "id": "iscJwnUI8jU-",
        "outputId": "0c2f4734-c2e1-482e-b33c-9f18a4c85abc"
      },
      "execution_count": null,
      "outputs": [
        {
          "output_type": "stream",
          "name": "stdout",
          "text": [
            "13\n"
          ]
        }
      ]
    },
    {
      "cell_type": "markdown",
      "source": [
        "###EX2\n"
      ],
      "metadata": {
        "id": "r5Zx99Xu-diT"
      }
    },
    {
      "cell_type": "markdown",
      "source": [
        "\n",
        "Write a Python function that takes two lists and returns True if they have at least one common member.\n",
        "\n"
      ],
      "metadata": {
        "id": "2-sUGAeJ-QzL"
      }
    },
    {
      "cell_type": "code",
      "source": [
        "def common_data(list1, list2):  \n",
        "     result = False  \n",
        "     for x in list1:  \n",
        "         for y in list2:  \n",
        "             if x == y:  \n",
        "                 result = True  \n",
        "                 return result\n",
        "                   \n",
        "print(common_data([1,2,3,4,5], [5,6,7,8,9]))  \n",
        "print(common_data([1,2,3,4,5], [6,7,8,9]))  "
      ],
      "metadata": {
        "colab": {
          "base_uri": "https://localhost:8080/"
        },
        "id": "VdbhiNZS-fKw",
        "outputId": "aa7f5167-24b7-4841-acae-f69690e26cd1"
      },
      "execution_count": null,
      "outputs": [
        {
          "output_type": "stream",
          "name": "stdout",
          "text": [
            "True\n",
            "None\n"
          ]
        }
      ]
    },
    {
      "cell_type": "markdown",
      "source": [
        "###EX3\n",
        "Write a Python program to find the items starts with specific character from a given list.\n",
        "\n"
      ],
      "metadata": {
        "id": "1qHMVrIOAkQZ"
      }
    },
    {
      "cell_type": "code",
      "source": [
        "def test(lst, char):\n",
        "    result = [i for i in lst if i.startswith(char)]\n",
        "    return result\n",
        "text = [\"abcd\", \"abc\", \"bcd\", \"bkie\", \"cder\", \"cdsw\", \"sdfsd\", \"dagfa\", \"acjd\"]\n",
        "print(\"\\nOriginal list:\")\n",
        "print(text)\n",
        "char = \"a\"\n",
        "print(\"\\nItems start with\",char,\"from the said list:\")\n",
        "print(test(text, char))\n",
        "char = \"d\"\n",
        "print(\"\\nItems start with\",char,\"from the said list:\")\n",
        "print(test(text, char))\n",
        "char = \"w\"\n",
        "print(\"\\nItems start with\",char,\"from the said list:\")\n",
        "print(test(text, char))"
      ],
      "metadata": {
        "colab": {
          "base_uri": "https://localhost:8080/"
        },
        "id": "hzLflY73A7yW",
        "outputId": "2a0a179f-d8e1-45e7-c772-40ce0fe6a89f"
      },
      "execution_count": null,
      "outputs": [
        {
          "output_type": "stream",
          "name": "stdout",
          "text": [
            "\n",
            "Original list:\n",
            "['abcd', 'abc', 'bcd', 'bkie', 'cder', 'cdsw', 'sdfsd', 'dagfa', 'acjd']\n",
            "\n",
            "Items start with a from the said list:\n",
            "['abcd', 'abc', 'acjd']\n",
            "\n",
            "Items start with d from the said list:\n",
            "['dagfa']\n",
            "\n",
            "Items start with w from the said list:\n",
            "[]\n"
          ]
        }
      ]
    },
    {
      "cell_type": "markdown",
      "source": [
        "###EX4\n",
        "\n",
        "Write a Python program to extract common index elements from more than one given list.\n",
        "\n"
      ],
      "metadata": {
        "id": "PfSX14QMAo2u"
      }
    },
    {
      "cell_type": "code",
      "source": [
        "def extract_index_ele(l1, l2, l3):\n",
        "    result = []\n",
        "    for m, n, o in zip(l1, l2, l3):\n",
        "        if (m == n == o):\n",
        "            result.append(m)\n",
        "    return result\n",
        "\n",
        "nums1 = [1, 1, 3, 4, 5, 6, 7]\n",
        "nums2 = [0, 1, 2, 3, 4, 5, 7]\n",
        "nums3 = [0, 1, 2, 3, 4, 5, 7]\n",
        "\n",
        "print(\"Original lists:\")\n",
        "print(nums1)\n",
        "print(nums2)\n",
        "print(nums3)\n",
        "print(\"\\nCommon index elements of the said lists:\") \n",
        "print(extract_index_ele(nums1, nums2, nums3))"
      ],
      "metadata": {
        "colab": {
          "base_uri": "https://localhost:8080/"
        },
        "id": "NoLO0U6zBXlE",
        "outputId": "7ee75a1c-d48f-4127-8748-ec445dfed4ef"
      },
      "execution_count": null,
      "outputs": [
        {
          "output_type": "stream",
          "name": "stdout",
          "text": [
            "Original lists:\n",
            "[1, 1, 3, 4, 5, 6, 7]\n",
            "[0, 1, 2, 3, 4, 5, 7]\n",
            "[0, 1, 2, 3, 4, 5, 7]\n",
            "\n",
            "Common index elements of the said lists:\n",
            "[1, 7]\n"
          ]
        }
      ]
    },
    {
      "cell_type": "markdown",
      "source": [
        "# Control Flow\n",
        "The flow control statements are divided into three categories\n",
        "\n",
        "\n",
        "1.   Conditional statements\n",
        "2.   Iterative statements\n",
        "3.   Transfer statements"
      ],
      "metadata": {
        "id": "xyoGBEP61xrB"
      }
    },
    {
      "cell_type": "markdown",
      "source": [
        "## Conditional statements\n",
        "In Python, condition statements act depending on whether a given condition is true or false. You can execute different blocks of codes depending on the outcome of a condition. Condition statements always evaluate to either True or False.\n",
        "\n",
        "There are Four types of conditional statements.\n",
        "1. if statement\n",
        "2. if-else\n",
        "3. if-elif-else\n",
        "4. nested if-else\n"
      ],
      "metadata": {
        "id": "uz2SYXiJ2oyn"
      }
    },
    {
      "cell_type": "markdown",
      "source": [
        "### EX 1"
      ],
      "metadata": {
        "id": "gNC52QG03DJL"
      }
    },
    {
      "cell_type": "markdown",
      "source": [
        ""
      ],
      "metadata": {
        "id": "k9BNmz4Q3KVp"
      }
    },
    {
      "cell_type": "markdown",
      "source": [
        "### EX 2\n",
        "Write a program to check whether a person is eligible for voting or not. (accept age from user)"
      ],
      "metadata": {
        "id": "tMOza2kA3DDA"
      }
    },
    {
      "cell_type": "code",
      "source": [
        "age=int(input(\"Enter your age\"))\n",
        "if age >=18:\n",
        "   print(\"Eligible for voting\")\n",
        "else:\n",
        "   print(\"not eligible for voting\")"
      ],
      "metadata": {
        "id": "pEfrgOHE3OlS"
      },
      "execution_count": null,
      "outputs": []
    },
    {
      "cell_type": "markdown",
      "source": [
        "### EX 3\n",
        " Write a program to check whether a number entered by user is even or odd."
      ],
      "metadata": {
        "id": "m3V4LXnf3JYY"
      }
    },
    {
      "cell_type": "code",
      "source": [
        "num=int(input(\"Enter your age\"))\n",
        "if num%2==0:\n",
        "   print(\"Number is Even\")\n",
        "else:\n",
        "   print(\"Number is Odd\")"
      ],
      "metadata": {
        "id": "D48zqgCn3eQz"
      },
      "execution_count": null,
      "outputs": []
    },
    {
      "cell_type": "markdown",
      "source": [
        "### EX 4\n",
        "Write a program to check whether a number is divisible by 7 or not.\n"
      ],
      "metadata": {
        "id": "keM4sC9S3J5x"
      }
    },
    {
      "cell_type": "code",
      "source": [
        "num=int(input(\"Enter A Number\"))\n",
        "if num%7==0:\n",
        "   print(\"Number is divisible\")\n",
        "else:\n",
        "   print(\"Number is not divisible\")"
      ],
      "metadata": {
        "id": "b-xSOIop3i25"
      },
      "execution_count": null,
      "outputs": []
    },
    {
      "cell_type": "markdown",
      "source": [
        "### EX 5\n",
        "Write a program to check whether an years is leap year or not.\n"
      ],
      "metadata": {
        "id": "lAa_zwHn3MW1"
      }
    },
    {
      "cell_type": "code",
      "source": [
        "yr=int(input(\"Enter the year\"))\n",
        "if yr%100==0:\n",
        "    if yr%400==0:\n",
        "          print(\"Entered year is leap year\")\n",
        "    else:\n",
        "          print(\"Entered year is not a leap year\")\n",
        "else:\n",
        "    if yr%4==0:\n",
        "         print(\"Entered year is leap year\")  \n",
        "    else:\n",
        "        print(\"Entered year is not a leap year\")"
      ],
      "metadata": {
        "id": "dCbQWbNk3qzG"
      },
      "execution_count": null,
      "outputs": []
    },
    {
      "cell_type": "markdown",
      "source": [
        "### EX 6\n",
        " Write a program to accept a number from 1 to 7 and display the name of the day like 1 for Sunday , 2 for Monday and so on."
      ],
      "metadata": {
        "id": "nrSWllAU3njR"
      }
    },
    {
      "cell_type": "code",
      "source": [
        "num=int(input(\"Enter any number between 1 to 7 : \"))\n",
        "if num==1:\n",
        "    print(\"Sunday\")\n",
        "elif num==2:\n",
        "    print(\"Monday\")\n",
        "elif num==3:\n",
        "    print(\"Tuesday\")\n",
        "elif num==4:\n",
        "   print(\"Wednesday\")\n",
        "elif num==5:\n",
        "   print(\"Thursday\")\n",
        "elif num==6:\n",
        "   print(\"Friday\")\n",
        "elif num==2:\n",
        "   print(\"Saturday\")\n",
        "else:\n",
        "   print(\"Please enter number between 1 to 7\")"
      ],
      "metadata": {
        "colab": {
          "base_uri": "https://localhost:8080/"
        },
        "id": "ez0Yr08P4AT_",
        "outputId": "a1e12aef-0802-4051-81c4-6a2759d2fb6d"
      },
      "execution_count": null,
      "outputs": [
        {
          "output_type": "stream",
          "name": "stdout",
          "text": [
            "Enter any number between 1 to 7 : 2\n",
            "Monday\n"
          ]
        }
      ]
    },
    {
      "cell_type": "markdown",
      "source": [
        "### EX 7\n",
        ". Write a program to accept a number from 1 to 12 and display name of the month and days in that month like 1 for January and number of days 31 and so on"
      ],
      "metadata": {
        "id": "FLI9vctE3zAO"
      }
    },
    {
      "cell_type": "code",
      "source": [
        "num=int(input(\"Enter any number between 1 to 7 : \"))\n",
        "if num==1:\n",
        "    print(\"January\")\n",
        "elif num==2:\n",
        "    print(\"February\")\n",
        "elif num==3:\n",
        "    print(\"March\")\n",
        "elif num==4:\n",
        "    print(\"April\")\n",
        "elif num==5:\n",
        "    print(\"May\")\n",
        "elif num==6:\n",
        "    print(\"June\")\n",
        "elif num==7:\n",
        "    print(\"July\")\n",
        "elif num==8:\n",
        "    print(\"August\")\n",
        "elif num==9:\n",
        "    print(\"September\")\n",
        "elif num==10:\n",
        "    print(\"October\")\n",
        "elif num==11:\n",
        "    print(\"November\")\n",
        "elif num==12:\n",
        "    print(\"December\")\n",
        "else:\n",
        "    print(\"Please enter number between 1 to 12\")\n"
      ],
      "metadata": {
        "id": "jJg9fhY34LRG"
      },
      "execution_count": null,
      "outputs": []
    },
    {
      "cell_type": "markdown",
      "source": [
        "### EX 8\n",
        " Write a program to whether a number (accepted from user) is divisible by 2 and 3 both."
      ],
      "metadata": {
        "id": "O6V4DUVL31TW"
      }
    },
    {
      "cell_type": "code",
      "source": [
        "num1 = int(input(\"Enter first number\"))\n",
        "if num1%2==0 and num1%3==0:\n",
        "      print(\"Number is divisible by 2 and 3 both\")\n",
        "else:\n",
        "      print(\"Number is not divisible by both\")"
      ],
      "metadata": {
        "id": "8mx6ceol4OTP"
      },
      "execution_count": null,
      "outputs": []
    },
    {
      "cell_type": "markdown",
      "source": [
        "### EX 9"
      ],
      "metadata": {
        "id": "Gd_sDERT32Sh"
      }
    },
    {
      "cell_type": "markdown",
      "source": [
        "A company decided to give bonus to employee according to following criteria:\n",
        "\n",
        "![Capture.PNG](data:image/png;base64,iVBORw0KGgoAAAANSUhEUgAAAnAAAADeCAYAAAC9mj0UAAAAAXNSR0IArs4c6QAAAARnQU1BAACxjwv8YQUAAAAJcEhZcwAADsMAAA7DAcdvqGQAABPrSURBVHhe7dwBbqO6GgbQu64ua7qUdCVVNzLqKkaaPeRCwPBjbCDTNo3TcyRLb4gxxnbiL6T3/XcGAKApAhwAQGMEOACAxghwAACNEeAAABojwAEANEaAAwBojAAHANAYAQ4AoDECHABAYwQ4AIDGCHAAAI0R4AAAGiPAAQA0RoADAGiMAAcA0BgBDgCgMQIcAEBjBDgAgMYIcAAAjRHgAAAaI8ABADRGgAMAaIwABwDQGAEOAKAxAhwAQGMEOACAxghwAACNuaMA9/f8+uvp/PT0dH5++zsee3B/Xs/P3f0+PT2fX/+Mxz7q9+kyhn05/R6PfYK/b89Tu09Pp/P7ePx+/cD1BMCP8cUBbt5Et8plg53CTFd+vXZnPr4Yij4tZHxBgFuGt75sBbj382lRdyy3ntMfuJ7u0ftLWANZ+cwvGAA/zf0EuFDXE7gP+PQAF+dw58lbuPaq3DxEeQJ3D7YCXF/MDcC/uelPqPOTnE8MLCx9ZYDbDGEx6OXz+34+eQr2I80BLoT/GPStC4B/ckcBLvz09jJ+1GdhZPFtfqyzOFbaDOJPaZey9/dbWWDJniqVQlH+lGH5VGF5X6nupc5G2MrbrIXe1d+mXRPgVmPTlTT2vezei3UmVzyp623Oy3IO3tM99tcNfVqMc2zv0r/Cehrt/iSc37eQ8c/mdRzHOMxNPraFNZc/pVt+jsR115Uw1+XPm+z9PR4tvRc8HQTuWTMBrlSef+UbcfahWz2/HIYG2YZQKHMw2qg7bSThvkKpB7jt68dQtg55y7IZ4LbGNm1stTpZIBrk/d4IcbvzUhmDy3XLm/96bZUCXG1s576uw926DscVA1xx3W+NfVfCmtus15XUZvnzJqyBnXUuwAH3rJ0AVzo2bQqlTX0+Nn8Qzx/e9Q/n5SY/bTCrJzzxfkqbU6Fv+X0XNrK4Oc2bW+H+Cv2p9n2lNF61axc2vJrCU4z1XB+Zl+37KIWC6Vhh/tfzNR/r/X17HdoJ/S+NfX08qal/yQjvmV5xPcfz53UU53FaQ4XPirnedoArhsyuP6fqZwTA92vqJ9RBoV7hQ3kZ9AolbBJLtcCSH1+GjHVJ91jq72h1f7Vrr8euOpbFMctU6xwc203lcSlutKVyue7ONVf9n/s9h8L8XvbvIwaDUpnb5qh6gBtKWn/V9RyCXRr/ct312i3XW6+DfN6r7xuAO9J0gJs31MLmvBcUqmEktDWFmMHym3qoVyl5uMjbW9/fRsiY6g5jVx3L4phlqnVK977Rpx3LjXHs56F52btmNqbZ2Azycd+/j3wjX5V8/thVfLoV52JvPYd5/KoAt+zPXKrvH4A78CMC3HUfxLWNPj9eq5cr3Fey6mO9zXzsqmN55L6rdUp9PXqfZXM/x2sdmpf9a07BoHt9+o8cFnXze9lvc3t98i/KAW69Lqpjf4MncLPw2qVkP/MC3JHHDXCxveyD+v1l64M5foiHfoa+rDeSLIws/n6mcF9J4f7KbRbuJZw7txvqdWXRp4Xy2JSvvR98Bn29fFxLY3lkXg5cM97/WOb10FuPe7y/WLf0N3DLuer687J179SUA1xcp+O6qIz9fP78Xix/jqznu/SeXaybcW29v8R2an0GuC8PHODi9fJyNMCVSm0jWpa5b4X7Snbub13iuO31cyvAbY1NV/LwshemLnb6E9rcn5cj18zHKV9TpXGvje08p/PmnZXNe6emOp6phHWxVXcZuA8GuBgKS2UKcIXX+rJ4HwDcl4cOcBfxG/fqvJJlW9PPc5dSCn6l4FIJefmGULy/wXpTOXDt/t432lwpbHDrsTkSpga1jbDYj815OXbNxfVW9erjvupndm4pYO6OJUXVcNSV4vuwsC7ysT8c4HqL9vr667VV6uP2ZwTA97tpgGvD8cACAPAdBLgVAQ4AuG8C3IoABwDcNwFuRYADAO6bAAcA0BgBDgCgMQIcAEBjBDgAgMYIcAAAjRHgAAAaI8ABADRGgAMAaIwABwDQGAEOAKAxAhwAQGMEOACAxghwAACNEeAAABojwAEANEaAAwBojAAHANAYAQ4AoDECHABAYwQ4AIDGCHAAAI0R4AAAGiPAAQA0RoADAGiMAAcA0BgBDgCgMQIcAEBjBDgAgMYIcAAAjRHgAAAaI8ABADRGgAMAaIwABwDQGAEOAKAxAty/+n06Pz09Xcrp93gMAOAGbhDg/p5ffw1BZzPwhEB0KS/v4wt34M/r+Tnv970GuKlfp3NxBPNxrtWjOX/fnoc5/fXavesKDsz91Mbe6/f0/gT4gb4lwJU+/N9f9ut8i1pQu7sA934+jf0ZSiGYrTbwjbq0Y/yCMc1nKcAdmfuxzrCex/dtbCtdpxYQAbiZmwa451/p230eGFL4eO7qDHUFuCvkG/il1Ma4K2kDDvfw/GZLblIpmK0C1rG5H75Ezetm+Pfz+fVP/6/0Pk7/BuA73fYJXBfgUtAohqFfp/OpFuBKISWvswhVcyicNpxVG9tPnlZPBcdy6fviWtlTxqxfxXYWdeIYdRts1s/dgDjW7zfi+VrZvS36Ox7LrzsejeJPaot+hD4W2yudE4NErc7OHC5/4lu+9iON47VYg/lcHpz7rQCXxl3QB7gPtw1wL6/hf8/xIoWO57f34utxA1qVuFkV640bfLWNegAoBq+uXDbBrT51Zd7o1qFmKtM9btS5lO2gGdUC3Bx8lvdbqz+JYTLMydxeOq8czvoyjcUqQM9lChYbc1iej/r8/Sz1AHd07lO9YS7G+ezbSvOWB0MAvs2NA9z7xsbfby4hBExhIRwLG8jcTmXzX2w2cxulYLX5VCG0OT+96MRrpb5Wwk5uHZpigJs32RhYFtfeUAtk1x6flYLBck57UzulOapu/IX5PjCHcWz/vp0EuIvSPA2umfv5WFcu7aR2BWWAe3LzALf66S1t2JfNYntDX4aYK+rGUFAqIRCsHGhzPl7fRBf9nUraFCvnVe+97prNulc7vjD1Y+xvPofFe4sla7s0H+m+q/ccxuhSNvr7I9XX3kfmPoXwy5ec7Anq5hcfAL7U7QNc9u+0iQybwTUBLm+3U6tbCgyxrMJWcKDN+XhpE90KN7cLcPMTy+WTlEMBLtzDZZ5Svw7dY1/Ga27NQ2pr656zADEUQW5QWUOdf577NN6X9sY5Ht9rqc2j6xKAz/UNAS5sKNN/tJA2lmsC3BV1t0LBnqvaXG+i8+Y511tvqF8f4Hb7m8awYp6z1/PrInT3CnOxEq419a1w30fuOQ9yO33/GSprqPePc5/W0uWcsY1pzvN/A3BT3xLgFht+X6YNpxQEwrGwMZWCUX3zL7fRe3/ZeYITwsJis9rbFMfrTIFqum6oc8sAF0NPGttr2l89/ao9zVke768xtD3PwTSOsc1031tzuJi70lr5ySprqPcvc59ez+oLcAD34ZsCXNzw4yZQ3pRjWFuVuHlvbEr1NnYCXOzTWC5tF6+13kQ3+37LANep9iXf8ItCH0vnrALeXIa+Z+fnJbVXvef1PJTr/VSVNTS6bu7TWMc1NB4b329De1lYB+Bmvi3AzRt13ATKAe6iEBBW3/73Ak94PZVDTxCy8y5tF69V3kRjWO3va95MbxvgequNPB/nLaE/5XErhKxFQFi+Xvz/Lqvec6FtASLYDnC9Y3M/t7Nac9l78OiaBODz3SDA8SjWwRMA+A4CHAdtPB0FAG5KgGNb9vPx/t8MAgBfTYBj2yLACW8AcA8EOACAxghwAACNEeAAABojwAEANEaAAwBojAAHANAYAQ4AoDECHABAYwQ4AIDGCHAAAI0R4AAAGiPAAQA0RoADAGiMAAcA0BgBDgCgMQIcAEBjBDgAgMYIcAAAjRHgAAAaI8ABADRGgAMAaIwABwDQGAEOAKAxAhwAQGMEOACAxghwAACNEeAAABojwAEANEaAAwBojAAHANAYAQ4AoDECHABAYwQ4AIDGCHAAAI0R4L7a79P56enpUk6/x2MAAB/wWAHuz+v5eQxLdxOa7jHATX06nd/HQwuhz5v1+HLvL3EeuvKynom/b8+hznquptcL5wLQpocJcKuNbiwCXPR+PoWxKQazVXjbqMsX+nt+/VWah678eu1eHY3zNayt8Zz4evpSE48B0LzHCHAhdDy/3dk2dS8BrvB0ch3KQsBLG/49j+0jK6yb+Unb8/n1z3Bs+OIyz+Pw7/R6CoFzfQAew40CXB8MvuoJTnhSce1PRMVQk2122Ua6eNJXeKqx+jnrMwJc38+PPkEZ77UPYfM9ZHNS7GsYX09xbmeaizBH03o9FuDSWhS8AR7PDQNcv7F05UgIKAarUGIboe7pd/YT4V6gC4FlWUKIq9YZStwcF+GuUK4PcFvjlt3rqtQDcy3AlZ7w9KqBjy8U5ndcx9M8hLWQ5mxYW+M5/evpfXHk/QZAc274E2r2Nz1bG8s1Ae6KgLUrXHc6L7afAmHsX+pLPDYFx+U9Hw9wR4Lo5we4a4/z1QpzXFgL8/x05bIe/XQK8Oi+5W/gFhtOMZxcoRSwFsFpP3Qsf/YcS2ortL/1s2Lt6VX5/Jpl4Puqn74EuBYs18Ki7LxnFj+dZl+GvmpNAXBb3/ofMUyh5yMhrhKQqoEqKAa3VG4e4OY294Pex9QCWe0eBLjbm+cijHkIY9U1kupc1uX4BG9cy6nNr15fAHy9+3wClz01WJX0s2WvsqlVA9Uk/Dw1tReO3TzA9bKnLpvB9vN/Qt29183+8HlqY74/F2luL/M3zmf+5wCewgG074YBLgscMYTlrglwcVMrBbHadUrBLwSYawNc8dzsnvcDXHJkrL4gwMVx37x/vto8R+ELQZifYghLc5XNnQAH8HhuFOAOBKqPiOFpUWpP33o7AejaABePVcr1Aehrxq0a4Drzk8SsfMW8Ubf5JaYUztNaia+Nx8a1PMzt1nsCgFbcMMDVnwh9itWGd+B6i3P6jS0EpqsDXC8Lcf1rxfOv1PfzRgGutwpxaSy4sbAeUymug3ndrdZY9r745zUIwF351v+IAQCA6wlwAACNEeAAABojwAEANEaAAwBojAAHANAYAQ4AoDECHABAYwQ4AIDGCHAAAI0R4AAAGiPAAQA0RoADAGiMAAcA0BgBDgCgMQIcAEBjBDgAgMYIcAAAjRHgAAAaI8ABADRGgAMAaIwABwDQGAEOAKAxAhwAQGMEOACAxghwAACNEeAAABojwAEANEaAAwBojAAHANAYAQ4AoDECHABAYwQ4AIDGCHAAAI0R4AAAGiPAAQA0RoADAGiMAAcA0BgBbuXv+fXX0/npqSu/Xrt/AQDclxsEuHsORGPfXt7Hf/fus7/vL2OfUhEuH8ef1/NznNupnM5xZeb1Tr/H48n0enYeAA/nBwe49/MpbYb3HOBqm7sA9zh+n9bzeykxiI3rdVyrf9+eu9efz69/Lv/spHUbjwHwqAS4sCkO7qm/oS+eqjyuFOC21ttYZ3rqNv77+W04Ywh0878BeGx3FeDynwlXm1HhaVSss/qZsRZ6ak88LkEu6++ibvZ0o/h0bFknbazD8RjIurIIjgXTta95qhKCaTbe0/jE4/lYZOfM/a/VWY7Xe6o/3VvoTyp79/3DTGO8NS7jPBUDXFqH2dwB8LjuJMBlwSaWtKnlQWMsQ4Crnf/BAFcsoc1aOyFwFQNQKKu/Ywpi4JqC0aVsB7o5yMZ6c5BKobfet/ke16F4LNNcVsarH8vaz78C3EJ5HrK1m8ZyHLthXuKXgmtCPgCtu4sAN29gpXA0HJuDRKjTbWqn+ASiK8snctkmuHDgJ9SwKZZDUabQj7g5T32Lwa8aZq4IkrnQfv7EZup/6OscIucxqQXL+X7SOCz7Gc9b1+111xDgFsoBri/ZHC++MAxjms6N6x6Ax3cHAW4vqCw3qlSWASP7ma76pC86EOBiO6VQNCpuwGOb1RCT1VuL4xLODf2ob9rh3LH9KYCO91QPDUNZtl2eo2EcKuPVWwQOIeOo+NRzc8xSCL+MezZHh94DALSqgQBXCAqr1zpZWLiUzU3s4wFuMwR9ZoBb3MeRc+N1+6c4c1uH+t6XS9vbc7Mb4DoxjKQiyO25Zn0M62oY5/GJXQp2G+sDgLbdV4DbDFxJHiq2fmbaCgsfDXDh/Kneus1/D3BpU+7KYlyOnRvrnd7Sz6XzWJX7lQn3PI3jahyOzd8yyG1ck848d9X1m+bhsgbG+vk63JgPANp2Z38DNz8huvgz/o1b5/1luenPgaALJf0Thxhmwt931QNcrV8HA1y4xtTnUOczAtw6LG2MVcHq6VdljJZ96O7/Zbjv+Vpz8IttDtevz29/fuxjeSx+unm8k/UY59L6SfMiwAH8NLcNcIUybFAh0GQlBbBVGEmlDx8xjCzKdlAoB5yDAW6jz5cyhqIPBbitsds8bxQDZVfyMFAd03Tf2fl5GdrbDnD5OaV6P9v1c5zmLc7ncGwMdOP7of7lBYDW3UmA65XqlZ/8pDJtUMUAN59bl4WwqwJcZ3HdPqCtg9nHAtwgv/fjG3Mc0/J4lEJWDAaL1/vxWI1DZbw6xQB3JHj+MKW1HecgmsZ0NY7Z+8c4Azy0GwQ4vs91QREAaIMA98DKT/8AgNYJcA9n/VO0v4UCgMciwD2cZYAT3gDg8QhwAACNEeAAABojwAEANEaAAwBojAAHANAYAQ4AoDECHABAYwQ4AIDGCHAAAI0R4AAAGiPAAQA0RoADAGiMAAcA0BgBDgCgMQIcAEBjBDgAgMYIcAAAjRHgAAAaI8ABADRGgAMAaIwABwDQGAEOAKAxAhwAQGMEOACAppzP/wOvl9KEr3m4AAAAAABJRU5ErkJggg==)\n",
        "\n",
        "\n",
        "Ask user for their salary and years of service and print the net bonus amount."
      ],
      "metadata": {
        "id": "5oLn3zea4UWr"
      }
    },
    {
      "cell_type": "code",
      "source": [
        "ser=int(input(\"Enter the time period of service\"))\n",
        "sal =int(input(\"Enter your salary\"))\n",
        "if ser > 10:\n",
        "     b=10/100*sal\n",
        "if ser >=6 and ser <=10:\n",
        "     b = 8/100*sal\n",
        "if ser < 6:\n",
        "    b = 5/100*sal\n",
        "print(\"Bonus is \", b)"
      ],
      "metadata": {
        "id": "zeusTO6N5Fa5"
      },
      "execution_count": null,
      "outputs": []
    },
    {
      "cell_type": "markdown",
      "source": [
        "### EX 10"
      ],
      "metadata": {
        "id": "MACh_bG8325w"
      }
    },
    {
      "cell_type": "markdown",
      "source": [
        "Q5. Write a program to accept percentage and display the Category according to the  following criteria :\n",
        "\n",
        "![image.png](data:image/png;base64,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)"
      ],
      "metadata": {
        "id": "po6_oUFJ5K90"
      }
    },
    {
      "cell_type": "code",
      "source": [
        "pr = int(input(\"Enter the percentage\"))\n",
        "if pr < 40:\n",
        "     print(\"Your Category is:  Failed\")\n",
        "elif pr >= 40 and pr < 55:\n",
        "     print(\"Your Category is:  Fair\")\n",
        "elif pr >=55 and pr < 65:\n",
        "     print(\"Your Category is: Good\")\n",
        "elif pr >= 65 and pr<=100:\n",
        "     print(\"Your Category is: Excellent\")\n",
        "elif pr >100:\n",
        "     print(\"Please enter correct percentage\")"
      ],
      "metadata": {
        "colab": {
          "base_uri": "https://localhost:8080/"
        },
        "id": "ISwIqhmW5EhE",
        "outputId": "757558ae-82b9-4d56-fe19-150acd6d64f1"
      },
      "execution_count": null,
      "outputs": [
        {
          "output_type": "stream",
          "name": "stdout",
          "text": [
            "Enter the percentage34\n",
            "Your Category is:  Failed\n"
          ]
        }
      ]
    },
    {
      "cell_type": "markdown",
      "source": [
        "### EX 11"
      ],
      "metadata": {
        "id": "p8lCEUij33eY"
      }
    },
    {
      "cell_type": "markdown",
      "source": [
        "Q4. Accept the electric units from user and calculate the bill according to the following rates.\n",
        "\n",
        "First 100 Units     :  Free\n",
        "\n",
        "Next 200 Units      :  Rs 2 per day.\n",
        "\n",
        "Above 300 Units    :  Rs 5 per day.\n",
        "\n",
        "if number of unit is 500 then total bill = 0 +400 + 1000 = 1400\n"
      ],
      "metadata": {
        "id": "j76R9Nza5gk3"
      }
    },
    {
      "cell_type": "code",
      "source": [
        "ut = int(input(\"Enter number of units  \"))\n",
        "\n",
        "if ut <=100:\n",
        "\n",
        "     amt = 0\n",
        "\n",
        "elif ut >100 and ut <= 300:\n",
        "\n",
        "     amt = (ut-100) *2\n",
        "\n",
        "else:\n",
        "\n",
        "     amt = 400 + (ut - 300)*5\n",
        "\n",
        "print(\"Total amount to pay is \", amt)"
      ],
      "metadata": {
        "colab": {
          "base_uri": "https://localhost:8080/"
        },
        "id": "1t6BNvCT5kQu",
        "outputId": "a1bdfd71-99d4-43d2-9643-1f7b3043202c"
      },
      "execution_count": null,
      "outputs": [
        {
          "output_type": "stream",
          "name": "stdout",
          "text": [
            "Enter number of units444\n",
            "Total amount to pay is  1120\n"
          ]
        }
      ]
    },
    {
      "cell_type": "markdown",
      "source": [
        "### EX 12"
      ],
      "metadata": {
        "id": "Yqpjpc1N5WXG"
      }
    },
    {
      "cell_type": "markdown",
      "source": [
        "ccept the number of days from the user and calculate the charge for library according to following :\n",
        "\n",
        "Till five days : Rs 2/day.\n",
        "\n",
        "Six to ten days  : Rs 3/day.\n",
        "\n",
        "11 to 15 days  : Rs 4/day\n",
        "\n",
        "After 15 days    : Rs 5/day"
      ],
      "metadata": {
        "id": "WOMlMrb86fz0"
      }
    },
    {
      "cell_type": "code",
      "source": [
        "nd = int(input(\"Enter number of days \"))\n",
        "\n",
        "if nd <= 5:\n",
        "\n",
        "    amt = nd * 2\n",
        "\n",
        "elif nd >=6 and nd <=10:\n",
        "\n",
        "    amt = nd * 3\n",
        "\n",
        "elif nd >= 11 and nd <= 15:\n",
        "\n",
        "    amt = nd * 4\n",
        "\n",
        "else:\n",
        "\n",
        "    amt = nd * 5\n",
        "\n",
        "print(\"Total amount to pay is \", amt)"
      ],
      "metadata": {
        "id": "GlV4OYQm6gLE"
      },
      "execution_count": null,
      "outputs": []
    },
    {
      "cell_type": "markdown",
      "source": [
        "## Iterative statements: FOR LOOPS\n"
      ],
      "metadata": {
        "id": "dQEAsOZz5cJl"
      }
    },
    {
      "cell_type": "markdown",
      "source": [
        "### EX 1"
      ],
      "metadata": {
        "id": "dg2vP2KR68a6"
      }
    },
    {
      "cell_type": "markdown",
      "source": [
        " Write a program to print first 10 odd numbers.\n"
      ],
      "metadata": {
        "id": "ojMM3gcfAcmU"
      }
    },
    {
      "cell_type": "code",
      "source": [
        "for i in range(1,21,2):\n",
        "      print(i)\n"
      ],
      "metadata": {
        "id": "8cDLB-flAc8d"
      },
      "execution_count": null,
      "outputs": []
    },
    {
      "cell_type": "markdown",
      "source": [
        "### EX 2"
      ],
      "metadata": {
        "id": "BHn67B-96_Q6"
      }
    },
    {
      "cell_type": "markdown",
      "source": [
        " Write a program to check whether a number is prime or not.\n"
      ],
      "metadata": {
        "id": "Kche0OeuAheL"
      }
    },
    {
      "cell_type": "code",
      "source": [
        "num=int(input(\"Enter any number\"))\n",
        "f=0\n",
        "if num==1 or num==0:\n",
        "     f=1\n",
        "for i in range(2,num):\n",
        "     if num%i==0:\n",
        "          f=1\n",
        "if f==1:\n",
        "     print(\"Number is not prime\")\n",
        "else:\n",
        "     print(\"Number is prime\")"
      ],
      "metadata": {
        "id": "ZcTyxDP5Ahx4"
      },
      "execution_count": null,
      "outputs": []
    },
    {
      "cell_type": "markdown",
      "source": [
        "### EX 3"
      ],
      "metadata": {
        "id": "Hovy_bzY7BAu"
      }
    },
    {
      "cell_type": "markdown",
      "source": [
        "Write program to print the following pattern. To n numbers\n",
        "\n",
        "1\n",
        "\n",
        "1 2\n",
        "\n",
        "1 2 3\n",
        "\n",
        "1 2 3 4"
      ],
      "metadata": {
        "id": "gkNE9l2mAsNx"
      }
    },
    {
      "cell_type": "code",
      "source": [
        "n=8\n",
        "for i in range(1,n+1):\n",
        "\n",
        "    for j in range(1,i+1):\n",
        "\n",
        "        print(j,end=\" \")\n",
        "\n",
        "    print()\n"
      ],
      "metadata": {
        "colab": {
          "base_uri": "https://localhost:8080/"
        },
        "id": "3nInRls3Ar_I",
        "outputId": "0a1aed06-aa1c-4f86-8976-8447f67d374c"
      },
      "execution_count": null,
      "outputs": [
        {
          "output_type": "stream",
          "name": "stdout",
          "text": [
            "1 \n",
            "1 2 \n",
            "1 2 3 \n",
            "1 2 3 4 \n",
            "1 2 3 4 5 \n",
            "1 2 3 4 5 6 \n",
            "1 2 3 4 5 6 7 \n",
            "1 2 3 4 5 6 7 8 \n"
          ]
        }
      ]
    },
    {
      "cell_type": "markdown",
      "source": [
        "### EX 4"
      ],
      "metadata": {
        "id": "Uw3ntY5a7Bta"
      }
    },
    {
      "cell_type": "markdown",
      "source": [
        "Accept 10 numbers from the user and display their average.\n",
        "\n"
      ],
      "metadata": {
        "id": "_nhAS0lTA4BZ"
      }
    },
    {
      "cell_type": "code",
      "source": [
        "s=0\n",
        "\n",
        "for i in range(10):\n",
        "\n",
        "n=int(input(\"Enter number\"))\n",
        "\n",
        "s=s+n\n",
        "\n",
        "print(\"Average of 10 numbers is \",s/10)"
      ],
      "metadata": {
        "id": "l66osmewA6Js"
      },
      "execution_count": null,
      "outputs": []
    },
    {
      "cell_type": "markdown",
      "source": [
        "### EX 5"
      ],
      "metadata": {
        "id": "5k2GWiJiBY-c"
      }
    },
    {
      "cell_type": "markdown",
      "source": [
        "Write a program to display all the numbers which are divisible by 11 but not by 2 between 100 and 500.\n",
        "\n"
      ],
      "metadata": {
        "id": "qthhB8W4BdjD"
      }
    },
    {
      "cell_type": "code",
      "source": [
        "for i in range(100,500):\n",
        "\n",
        "   if i%11==0 and i%2!=0:\n",
        "\n",
        "      print(i)"
      ],
      "metadata": {
        "id": "E91-xOtcBblh"
      },
      "execution_count": null,
      "outputs": []
    },
    {
      "cell_type": "markdown",
      "source": [
        "#Algorithms"
      ],
      "metadata": {
        "id": "i-GSytgo15uQ"
      }
    }
  ]
}